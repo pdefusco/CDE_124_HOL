{
 "cells": [
  {
   "cell_type": "code",
   "execution_count": 1,
   "id": "1aee2261-ac1f-4d81-b67f-7a58fcc60f62",
   "metadata": {},
   "outputs": [],
   "source": [
    "#****************************************************************************\n",
    "# (C) Cloudera, Inc. 2020-2023\n",
    "#  All rights reserved.\n",
    "#\n",
    "#  Applicable Open Source License: GNU Affero General Public License v3.0\n",
    "#\n",
    "#  NOTE: Cloudera open source products are modular software products\n",
    "#  made up of hundreds of individual components, each of which was\n",
    "#  individually copyrighted.  Each Cloudera open source product is a\n",
    "#  collective work under U.S. Copyright Law. Your license to use the\n",
    "#  collective work is as provided in your written agreement with\n",
    "#  Cloudera.  Used apart from the collective work, this file is\n",
    "#  licensed for your use pursuant to the open source license\n",
    "#  identified above.\n",
    "#\n",
    "#  This code is provided to you pursuant a written agreement with\n",
    "#  (i) Cloudera, Inc. or (ii) a third-party authorized to distribute\n",
    "#  this code. If you do not have a written agreement with Cloudera nor\n",
    "#  with an authorized and properly licensed third party, you do not\n",
    "#  have any rights to access nor to use this code.\n",
    "#\n",
    "#  Absent a written agreement with Cloudera, Inc. (“Cloudera”) to the\n",
    "#  contrary, A) CLOUDERA PROVIDES THIS CODE TO YOU WITHOUT WARRANTIES OF ANY\n",
    "#  KIND; (B) CLOUDERA DISCLAIMS ANY AND ALL EXPRESS AND IMPLIED\n",
    "#  WARRANTIES WITH RESPECT TO THIS CODE, INCLUDING BUT NOT LIMITED TO\n",
    "#  IMPLIED WARRANTIES OF TITLE, NON-INFRINGEMENT, MERCHANTABILITY AND\n",
    "#  FITNESS FOR A PARTICULAR PURPOSE; (C) CLOUDERA IS NOT LIABLE TO YOU,\n",
    "#  AND WILL NOT DEFEND, INDEMNIFY, NOR HOLD YOU HARMLESS FOR ANY CLAIMS\n",
    "#  ARISING FROM OR RELATED TO THE CODE; AND (D)WITH RESPECT TO YOUR EXERCISE\n",
    "#  OF ANY RIGHTS GRANTED TO YOU FOR THE CODE, CLOUDERA IS NOT LIABLE FOR ANY\n",
    "#  DIRECT, INDIRECT, INCIDENTAL, SPECIAL, EXEMPLARY, PUNITIVE OR\n",
    "#  CONSEQUENTIAL DAMAGES INCLUDING, BUT NOT LIMITED TO, DAMAGES\n",
    "#  RELATED TO LOST REVENUE, LOST PROFITS, LOSS OF INCOME, LOSS OF\n",
    "#  BUSINESS ADVANTAGE OR UNAVAILABILITY, OR LOSS OR CORRUPTION OF\n",
    "#  DATA.\n",
    "#\n",
    "# #  Author(s): Paul de Fusco\n",
    "#***************************************************************************/"
   ]
  },
  {
   "cell_type": "markdown",
   "id": "f538f1d1-711b-47ab-9224-d1701c3580e8",
   "metadata": {},
   "source": [
    "![title](img/spark-connect-slide.png)"
   ]
  },
  {
   "cell_type": "code",
   "execution_count": 2,
   "id": "e0f27e2f-da63-4521-9682-1545ad75bda2",
   "metadata": {},
   "outputs": [],
   "source": [
    "from os.path import exists\n",
    "from pyspark.sql import SparkSession\n",
    "import pyspark.sql.functions as F\n",
    "from pyspark.sql.types import *\n",
    "\n",
    "from cde import CDESparkConnectSession\n",
    "spark = CDESparkConnectSession.builder.sessionName('spark-conn-paul').get()"
   ]
  },
  {
   "cell_type": "code",
   "execution_count": 3,
   "id": "1e1997fa-7d08-4d73-a54f-c631dbdd931a",
   "metadata": {},
   "outputs": [],
   "source": [
    "storageLocation = \"s3a://go01-demo/data/cde-123-hol\"\n",
    "username = \"user001\""
   ]
  },
  {
   "cell_type": "code",
   "execution_count": 4,
   "id": "0e8c27e7-385b-409e-8fcd-4fc28da51442",
   "metadata": {},
   "outputs": [
    {
     "name": "stdout",
     "output_type": "stream",
     "text": [
      "root\n",
      " |-- credit_card_number: string (nullable = true)\n",
      " |-- credit_card_provider: string (nullable = true)\n",
      " |-- event_ts: string (nullable = true)\n",
      " |-- latitude: double (nullable = true)\n",
      " |-- longitude: double (nullable = true)\n",
      " |-- transaction_amount: long (nullable = true)\n",
      " |-- transaction_currency: string (nullable = true)\n",
      " |-- transaction_type: string (nullable = true)\n",
      "\n"
     ]
    }
   ],
   "source": [
    "### LOAD HISTORICAL TRANSACTIONS FILE FROM CLOUD STORAGE\n",
    "transactionsDf = spark\\\n",
    "                    .read\\\n",
    "                    .json(\"{0}/trans/{1}/rawtransactions\".format(storageLocation, username))\n",
    "\n",
    "transactionsDf.printSchema()"
   ]
  },
  {
   "cell_type": "code",
   "execution_count": 5,
   "id": "a4ec1ddb-01b8-43af-b903-a115859c3c59",
   "metadata": {},
   "outputs": [
    {
     "data": {
      "text/plain": [
       "DataFrame[]"
      ]
     },
     "execution_count": 5,
     "metadata": {},
     "output_type": "execute_result"
    }
   ],
   "source": [
    "spark.sql(\"\"\"CREATE DATABASE \n",
    "                IF NOT EXISTS \n",
    "                SPARK_CATALOG.HOL_DB_{}\"\"\".format(username))\n",
    "\n",
    "spark.sql(\"\"\"DROP TABLE \n",
    "                IF EXISTS \n",
    "                spark_catalog.HOL_DB_{0}.TRANSACTIONS_{0} \n",
    "                PURGE\"\"\".format(username))"
   ]
  },
  {
   "cell_type": "code",
   "execution_count": 6,
   "id": "d6b6659d-8886-49e8-b448-f745514f1550",
   "metadata": {},
   "outputs": [],
   "source": [
    "transactionsDf\\\n",
    "        .writeTo(\"SPARK_CATALOG.HOL_DB_{0}.TRANSACTIONS_{0}\".format(username))\\\n",
    "        .using(\"iceberg\")\\\n",
    "        .tableProperty(\"write.format.default\", \"parquet\")\\\n",
    "        .createOrReplace()"
   ]
  },
  {
   "cell_type": "code",
   "execution_count": 7,
   "id": "3eb17ce4-1ffe-417d-a7ff-dd0ce42185b6",
   "metadata": {},
   "outputs": [],
   "source": [
    "trxBatchDf = spark\\\n",
    "                .read\\\n",
    "                .schema(\"\"\"credit_card_number string, \n",
    "                credit_card_provider string, \n",
    "                event_ts timestamp, \n",
    "                latitude double, \n",
    "                longitude double, \n",
    "                transaction_amount long, \n",
    "                transaction_currency string, \n",
    "                transaction_type string\"\"\")\\\n",
    "                .json(\"{0}/trans/{1}/trx_batch_1\".format(storageLocation, username))\n",
    "\n",
    "trxBatchDf\\\n",
    "    .createOrReplaceTempView(\"trx_batch\")"
   ]
  },
  {
   "cell_type": "code",
   "execution_count": 8,
   "id": "e3ed3699-82ba-47fb-a95d-bbb35c444bec",
   "metadata": {},
   "outputs": [
    {
     "name": "stdout",
     "output_type": "stream",
     "text": [
      "+----------------+--------+\n",
      "|TRANSACTION_TYPE|count(1)|\n",
      "+----------------+--------+\n",
      "|        purchase|    1789|\n",
      "|    cash_advance|     211|\n",
      "+----------------+--------+\n",
      "\n"
     ]
    }
   ],
   "source": [
    "# PRE-MERGE COUNTS BY TRANSACTION TYPE:\n",
    "spark.sql(\"\"\"SELECT TRANSACTION_TYPE, \n",
    "                COUNT(*) \n",
    "                FROM spark_catalog.HOL_DB_{0}.TRANSACTIONS_{0} \n",
    "                GROUP BY TRANSACTION_TYPE\"\"\".format(username)).show()"
   ]
  },
  {
   "cell_type": "code",
   "execution_count": 9,
   "id": "6ac0d437-f63a-4d89-9dc9-82283d867f14",
   "metadata": {},
   "outputs": [
    {
     "data": {
      "text/plain": [
       "DataFrame[]"
      ]
     },
     "execution_count": 9,
     "metadata": {},
     "output_type": "execute_result"
    }
   ],
   "source": [
    "# MERGE OPERATION\n",
    "spark.sql(\"\"\"MERGE INTO spark_catalog.HOL_DB_{0}.TRANSACTIONS_{0} t\n",
    "                USING (SELECT * FROM trx_batch) s\n",
    "                ON t.credit_card_number = s.credit_card_number\n",
    "                WHEN MATCHED AND t.transaction_amount < 1000 AND t.transaction_currency != \"CHF\" THEN UPDATE SET t.transaction_type = \"invalid\"\n",
    "                WHEN NOT MATCHED THEN INSERT *\"\"\".format(username))"
   ]
  },
  {
   "cell_type": "code",
   "execution_count": 10,
   "id": "981b5364-1a6f-4aff-890b-94ec034b5f54",
   "metadata": {},
   "outputs": [
    {
     "name": "stdout",
     "output_type": "stream",
     "text": [
      "+----------------+--------+\n",
      "|TRANSACTION_TYPE|count(1)|\n",
      "+----------------+--------+\n",
      "|        purchase|    1787|\n",
      "|    cash_advance|     210|\n",
      "|         invalid|       3|\n",
      "+----------------+--------+\n",
      "\n"
     ]
    }
   ],
   "source": [
    "# POST-MERGE COUNT:\n",
    "spark.sql(\"\"\"SELECT TRANSACTION_TYPE, \n",
    "                    COUNT(*) \n",
    "                    FROM spark_catalog.HOL_DB_{0}.TRANSACTIONS_{0} \n",
    "                    GROUP BY TRANSACTION_TYPE\"\"\".format(username)).show()"
   ]
  },
  {
   "cell_type": "code",
   "execution_count": 11,
   "id": "e1ff962b-9fd2-439a-a346-6cc29fb62634",
   "metadata": {},
   "outputs": [
    {
     "name": "stdout",
     "output_type": "stream",
     "text": [
      "+--------------------+-------------------+-------------------+-------------------+\n",
      "|     made_current_at|        snapshot_id|          parent_id|is_current_ancestor|\n",
      "+--------------------+-------------------+-------------------+-------------------+\n",
      "|2025-01-15 00:17:...|1803119392281374845|               NULL|               true|\n",
      "|2025-01-15 00:17:...|1961025733431406081|1803119392281374845|               true|\n",
      "+--------------------+-------------------+-------------------+-------------------+\n",
      "\n"
     ]
    }
   ],
   "source": [
    "# ICEBERG TABLE HISTORY (SHOWS EACH SNAPSHOT AND TIMESTAMP)\n",
    "spark.sql(\"\"\"SELECT * \n",
    "            FROM spark_catalog.HOL_DB_{0}.TRANSACTIONS_{0}.history\"\"\".format(username)).show()"
   ]
  },
  {
   "cell_type": "code",
   "execution_count": 12,
   "id": "5ae324fd-1afc-4822-8931-dee94671bbd7",
   "metadata": {},
   "outputs": [
    {
     "name": "stdout",
     "output_type": "stream",
     "text": [
      "+--------------------+-------------------+-------------------+---------+--------------------+--------------------+\n",
      "|        committed_at|        snapshot_id|          parent_id|operation|       manifest_list|             summary|\n",
      "+--------------------+-------------------+-------------------+---------+--------------------+--------------------+\n",
      "|2025-01-15 00:17:...|1803119392281374845|               NULL|   append|s3a://go01-demo/w...|{spark.app.id -> ...|\n",
      "|2025-01-15 00:17:...|1961025733431406081|1803119392281374845|overwrite|s3a://go01-demo/w...|{spark.app.id -> ...|\n",
      "+--------------------+-------------------+-------------------+---------+--------------------+--------------------+\n",
      "\n"
     ]
    }
   ],
   "source": [
    "# ICEBERG TABLE SNAPSHOTS (USEFUL FOR INCREMENTAL QUERIES AND TIME TRAVEL)\n",
    "spark.sql(\"\"\"SELECT * \n",
    "            FROM spark_catalog.HOL_DB_{0}.TRANSACTIONS_{0}.snapshots\"\"\".format(username)).show()"
   ]
  },
  {
   "cell_type": "code",
   "execution_count": 13,
   "id": "2623633b-7e24-41c7-b97d-f006b020584c",
   "metadata": {},
   "outputs": [],
   "source": [
    "# APPEND SECOND DATA BATCH\n",
    "trxBatchDf = spark\\\n",
    "                .read\\\n",
    "                .schema(\"\"\"credit_card_number string, credit_card_provider string, event_ts timestamp, latitude double, longitude double, transaction_amount long, transaction_currency string, transaction_type string\"\"\")\\\n",
    "                .json(\"{0}/trans/{1}/trx_batch_2\".format(storageLocation, username))\n",
    "\n",
    "trxBatchDf\\\n",
    "    .writeTo(\"spark_catalog.HOL_DB_{0}.TRANSACTIONS_{0}\".format(username))\\\n",
    "    .using(\"iceberg\")\\\n",
    "    .append()"
   ]
  },
  {
   "cell_type": "code",
   "execution_count": 14,
   "id": "c6729749-842c-4abb-b230-a5e30e31c4fb",
   "metadata": {},
   "outputs": [],
   "source": [
    "# STORE FIRST AND LAST SNAPSHOT ID'S FROM SNAPSHOTS TABLE\n",
    "snapshots_df = spark.sql(\"\"\"SELECT * \n",
    "                            FROM spark_catalog.HOL_DB_{0}.TRANSACTIONS_{0}.snapshots;\"\"\".format(username))"
   ]
  },
  {
   "cell_type": "code",
   "execution_count": 15,
   "id": "0c288782-9221-4569-b677-f9ef551cbc46",
   "metadata": {},
   "outputs": [],
   "source": [
    "last_snapshot = snapshots_df\\\n",
    "                .select(\"snapshot_id\")\\\n",
    "                .tail(1)[0][0]\n",
    "\n",
    "second_snapshot = snapshots_df\\\n",
    "                    .select(\"snapshot_id\")\\\n",
    "                    .collect()[1][0]"
   ]
  },
  {
   "cell_type": "code",
   "execution_count": 16,
   "id": "94dd18ac-32de-47b8-89c0-b3f1431f8c47",
   "metadata": {},
   "outputs": [],
   "source": [
    "#this is incremental read!!\n",
    "incReadDf = spark.read\\\n",
    "    .format(\"iceberg\")\\\n",
    "    .option(\"start-snapshot-id\", second_snapshot)\\\n",
    "    .option(\"end-snapshot-id\", last_snapshot)\\\n",
    "    .load(\"spark_catalog.HOL_DB_{0}.TRANSACTIONS_{0}\".format(username))"
   ]
  },
  {
   "cell_type": "code",
   "execution_count": 17,
   "id": "e6b68e0f-6526-43c4-b5f6-ade2c05b8b7d",
   "metadata": {},
   "outputs": [
    {
     "name": "stdout",
     "output_type": "stream",
     "text": [
      "Incremental Report:\n",
      "+------------------+--------------------+-------------------+--------+---------+------------------+--------------------+----------------+\n",
      "|credit_card_number|credit_card_provider|           event_ts|latitude|longitude|transaction_amount|transaction_currency|transaction_type|\n",
      "+------------------+--------------------+-------------------+--------+---------+------------------+--------------------+----------------+\n",
      "|  3674567891192000|       VISA 13 digit|2023-07-05 13:33:00| 36.3963|    -77.0|             26336|                 GBP|    cash_advance|\n",
      "|  3674567891192000|       VISA 16 digit|2023-03-10 09:19:00| 38.3963|   -122.0|             11223|                 MEX|    cash_advance|\n",
      "|  3674567891192001|       VISA 19 digit|2023-06-18 04:01:00| 38.3963|    -92.0|             16346|                 CHF|        purchase|\n",
      "|  3674567891192002|Diners Club / Car...|2023-07-01 07:22:00| 28.3963|   -116.0|             18287|                 EUR|        purchase|\n",
      "|  3674567891192002|            Discover|2023-11-20 23:45:00| 29.3963|    -88.0|             15264|                 KWD|        purchase|\n",
      "|  3674567891192002|       VISA 16 digit|2023-01-12 13:03:00| 39.3963|   -109.0|             28543|                 BHD|        purchase|\n",
      "|  3674567891192006|        JCB 15 digit|2023-02-04 18:30:00| 35.3963|   -110.0|             24999|                 USD|    cash_advance|\n",
      "|  3674567891192006|          Mastercard|2023-11-24 13:06:00| 25.3963|   -108.0|               649|                 KWD|        purchase|\n",
      "|  3674567891192006|       VISA 16 digit|2023-08-08 03:59:00| 40.3963|    -76.0|             19025|                 MEX|        purchase|\n",
      "|  3674567891192008|        JCB 16 digit|2023-01-26 10:13:00| 28.3963|    -86.0|             20954|                 MEX|        purchase|\n",
      "|  3674567891192008|       VISA 19 digit|2023-04-14 19:22:00| 41.3963|   -104.0|             20481|                 USD|        purchase|\n",
      "|  3674567891192009|            Discover|2023-09-28 07:50:00| 46.3963|    -93.0|              6343|                 EUR|        purchase|\n",
      "|  3674567891192009|             Maestro|2023-09-29 00:19:00| 32.3963|   -105.0|              3592|                 KWD|        purchase|\n",
      "|  3674567891192010|            Discover|2023-06-23 03:46:00| 42.3963|    -98.0|             26690|                 USD|        purchase|\n",
      "|  3674567891192011|        JCB 15 digit|2023-07-02 07:55:00| 29.3963|   -116.0|             29109|                 BHD|    cash_advance|\n",
      "|  3674567891192011|       VISA 16 digit|2023-01-17 23:22:00| 42.3963|    -89.0|             24984|                 USD|        purchase|\n",
      "|  3674567891192013|             Maestro|2023-12-15 01:29:00| 42.3963|   -120.0|             28162|                 KWD|        purchase|\n",
      "|  3674567891192013|          Mastercard|2023-08-04 01:51:00| 39.3963|    -84.0|              4003|                 KWD|        purchase|\n",
      "|  3674567891192013|       VISA 19 digit|2023-12-17 07:42:00| 39.3963|    -70.0|             13623|                 EUR|        purchase|\n",
      "|  3674567891192014|       VISA 13 digit|2023-01-19 15:43:00| 32.3963|   -114.0|             22448|                 EUR|    cash_advance|\n",
      "+------------------+--------------------+-------------------+--------+---------+------------------+--------------------+----------------+\n",
      "only showing top 20 rows\n",
      "\n"
     ]
    }
   ],
   "source": [
    "print(\"Incremental Report:\")\n",
    "incReadDf.show()"
   ]
  },
  {
   "cell_type": "code",
   "execution_count": null,
   "id": "da3c8369-a734-4b68-99dd-5238f88e89a2",
   "metadata": {},
   "outputs": [],
   "source": []
  },
  {
   "cell_type": "code",
   "execution_count": null,
   "id": "e190936d-8d27-43cd-960e-30ca12169344",
   "metadata": {},
   "outputs": [],
   "source": []
  }
 ],
 "metadata": {
  "kernelspec": {
   "display_name": "Python 3 (ipykernel)",
   "language": "python",
   "name": "python3"
  },
  "language_info": {
   "codemirror_mode": {
    "name": "ipython",
    "version": 3
   },
   "file_extension": ".py",
   "mimetype": "text/x-python",
   "name": "python",
   "nbconvert_exporter": "python",
   "pygments_lexer": "ipython3",
   "version": "3.9.12"
  }
 },
 "nbformat": 4,
 "nbformat_minor": 5
}
